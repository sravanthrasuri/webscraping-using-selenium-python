{
 "cells": [
  {
   "cell_type": "code",
   "execution_count": 1,
   "id": "83e79f03-ccbd-48ea-90c8-e084f6ded743",
   "metadata": {},
   "outputs": [],
   "source": [
    "import selenium\n",
    "from selenium.webdriver.chrome.service import Service\n",
    "from selenium import webdriver\n",
    "from selenium.webdriver.common.by import By\n",
    "from selenium.webdriver.support.ui import WebDriverWait\n",
    "from selenium.webdriver.support import expected_conditions as EC\n",
    "from selenium.webdriver.common.action_chains import ActionChains\n",
    "from selenium.webdriver.common.keys import Keys\n",
    "import time\n",
    "import re\n",
    "import json\n",
    "from selenium.webdriver.common.by import By"
   ]
  },
  {
   "cell_type": "code",
   "execution_count": 2,
   "id": "f9366a15-8b36-46d0-b686-55a0e2573be0",
   "metadata": {},
   "outputs": [],
   "source": [
    "options = webdriver.ChromeOptions()\n",
    "prefs = {\"profile.default_content_setting_values.notifications\" : 2}\n",
    "options.add_experimental_option(\"prefs\",prefs)"
   ]
  },
  {
   "cell_type": "code",
   "execution_count": 3,
   "id": "61f99f42-ddc5-40a5-a262-ee99a1907bd4",
   "metadata": {},
   "outputs": [],
   "source": [
    "service = Service()\n",
    "driver = webdriver.Chrome(service = service,options=options)\n",
    "driver.maximize_window()"
   ]
  },
  {
   "cell_type": "code",
   "execution_count": 4,
   "id": "60a78953-f81a-4f79-b5ac-7b7c8527e943",
   "metadata": {},
   "outputs": [],
   "source": [
    "driver.get(\"https://www.valenciaconventionbureau.com/en/events-valencia/esgar-2023-european-society-gastrointestinal-and-abdominal-radiology#:~:text=The%20ESGAR%202023%20Annual%20Meeting,HCC%2C%20liver%20cirrhosis%2C%20AI%20in\")\n",
    "time.sleep(5)"
   ]
  },
  {
   "cell_type": "code",
   "execution_count": 19,
   "id": "8de666ce-1cb4-4757-b4f6-3857156bfbfd",
   "metadata": {},
   "outputs": [],
   "source": [
    "heading = driver.find_element(By.XPATH, \"//h1[@class='heading']\").text\n",
    "location = driver.find_element(By.XPATH, \"//*[@id='block-vv-content']/article/div[3]/div/div/div[1]/div/p\").text\n",
    "article = driver.find_element(By.XPATH, \"//div[@class='text-long']\").text"
   ]
  },
  {
   "cell_type": "code",
   "execution_count": 21,
   "id": "c6d7422c-af24-4368-86d3-d7a0f8d0b18f",
   "metadata": {},
   "outputs": [],
   "source": [
    "more = driver.find_element(By.XPATH, \"//*[@id='block-vv-content']/article/div[3]/div/div/div[4]/div/h2\").text"
   ]
  },
  {
   "cell_type": "code",
   "execution_count": 36,
   "id": "a97f5117-58ae-4014-ac0e-e74d89bd8d83",
   "metadata": {},
   "outputs": [],
   "source": [
    "ul_element = WebDriverWait(driver, 10).until(\n",
    "    EC.presence_of_element_located((By.XPATH, \"//*[@id='block-vv-content']/article/div[3]/div/div/div[4]/div/ul\")))"
   ]
  },
  {
   "cell_type": "code",
   "execution_count": 48,
   "id": "e4e29437-dc7e-4513-9379-f2f2152e6e06",
   "metadata": {},
   "outputs": [],
   "source": [
    "li_elements = ul_element.find_elements(By.TAG_NAME, \"li\")"
   ]
  },
  {
   "cell_type": "code",
   "execution_count": 50,
   "id": "0048ed2d-0cd4-452c-8a56-8435b354a7d1",
   "metadata": {},
   "outputs": [],
   "source": [
    "data = []"
   ]
  },
  {
   "cell_type": "code",
   "execution_count": 53,
   "id": "59ce517a-9319-46e1-82c2-fdf7c08a89e0",
   "metadata": {},
   "outputs": [],
   "source": [
    "data.append(heading)\n",
    "data.append(location)\n",
    "data.append(article)\n",
    "data.append(more)"
   ]
  },
  {
   "cell_type": "code",
   "execution_count": 55,
   "id": "1d59b6ef-2cba-4833-994f-79694edec058",
   "metadata": {},
   "outputs": [],
   "source": [
    "list = []\n",
    "for li_element in li_elements:\n",
    "    list.append(li_element.text)"
   ]
  },
  {
   "cell_type": "code",
   "execution_count": 56,
   "id": "d8169e13-4990-4553-ae0d-cf42dbae1339",
   "metadata": {},
   "outputs": [],
   "source": [
    "data.append(\"\\n\".join(list))"
   ]
  },
  {
   "cell_type": "code",
   "execution_count": 57,
   "id": "3fc8a245-6ac1-4a1c-b20c-f4bb8e6a307f",
   "metadata": {},
   "outputs": [
    {
     "name": "stdout",
     "output_type": "stream",
     "text": [
      "['ESGAR 2023-EUROPEAN SOCIETY OF GASTROINTESTINAL AND ABDOMINAL RADIOLOGY', 'TOURISTIC AREA: Palace of Congresses', 'The ESGAR 2023 Annual Meeting and Postgraduate Course and its faculty of experts will provide participants not only with an in-depth overview of gastrointestinal and abdominal radiology but it will also give an insight into cutting-edge technology in topics such as rectal cancer, IBD, HCC, liver cirrhosis, AI in abdominal radiology, elastography and screening strategy in abdominal conditions.', 'ESGAR 2023-EUROPEAN SOCIETY OF GASTROINTESTINAL AND ABDOMINAL RADIOLOGY', 'TOURISTIC AREA: Palace of Congresses', 'The ESGAR 2023 Annual Meeting and Postgraduate Course and its faculty of experts will provide participants not only with an in-depth overview of gastrointestinal and abdominal radiology but it will also give an insight into cutting-edge technology in topics such as rectal cancer, IBD, HCC, liver cirrhosis, AI in abdominal radiology, elastography and screening strategy in abdominal conditions.', 'Details', 'Event dates\\nFrom:\\n13-06-2023\\nTo:\\n16-06-2023\\nPlace\\nPalacio de Congresos Valencia. Avda. Cortes Valencianas, nº 60\\nAssistants: 2000\\nCelebration year 2023']\n"
     ]
    }
   ],
   "source": [
    "print(data)"
   ]
  },
  {
   "cell_type": "code",
   "execution_count": 65,
   "id": "e9806ff5-6757-4314-9509-1c85befc9099",
   "metadata": {},
   "outputs": [],
   "source": [
    "import pandas as pd"
   ]
  },
  {
   "cell_type": "code",
   "execution_count": 66,
   "id": "94e3374b-5f68-47ac-83fa-2467c62efbee",
   "metadata": {},
   "outputs": [],
   "source": [
    "df = pd.DataFrame(data)"
   ]
  },
  {
   "cell_type": "code",
   "execution_count": 67,
   "id": "f328540a-c01d-4474-b14c-e9748e796904",
   "metadata": {},
   "outputs": [],
   "source": [
    "df.to_excel(\"link4.xlsx\")"
   ]
  }
 ],
 "metadata": {
  "kernelspec": {
   "display_name": "Python 3 (ipykernel)",
   "language": "python",
   "name": "python3"
  },
  "language_info": {
   "codemirror_mode": {
    "name": "ipython",
    "version": 3
   },
   "file_extension": ".py",
   "mimetype": "text/x-python",
   "name": "python",
   "nbconvert_exporter": "python",
   "pygments_lexer": "ipython3",
   "version": "3.11.5"
  }
 },
 "nbformat": 4,
 "nbformat_minor": 5
}
