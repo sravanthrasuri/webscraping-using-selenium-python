{
 "cells": [
  {
   "cell_type": "code",
   "execution_count": 1,
   "id": "e217649e-74db-4d3c-8108-6457a2c2e4d4",
   "metadata": {},
   "outputs": [],
   "source": [
    "import selenium\n",
    "from selenium.webdriver.chrome.service import Service\n",
    "from selenium import webdriver\n",
    "from selenium.webdriver.common.by import By\n",
    "from selenium.webdriver.support.ui import WebDriverWait\n",
    "from selenium.webdriver.support import expected_conditions as EC\n",
    "from selenium.webdriver.common.action_chains import ActionChains\n",
    "from selenium.webdriver.common.keys import Keys\n",
    "import time\n",
    "import re\n",
    "import json\n",
    "from selenium.webdriver.common.by import By"
   ]
  },
  {
   "cell_type": "code",
   "execution_count": 2,
   "id": "c1db170b-557a-4bde-a97b-7bc523b34b7f",
   "metadata": {},
   "outputs": [],
   "source": [
    "options = webdriver.ChromeOptions()\n",
    "prefs = {\"profile.default_content_setting_values.notifications\" : 2}\n",
    "options.add_experimental_option(\"prefs\",prefs)"
   ]
  },
  {
   "cell_type": "code",
   "execution_count": 3,
   "id": "4a6f276e-8eb6-47a8-b4a8-99f6c51dd156",
   "metadata": {},
   "outputs": [
    {
     "name": "stderr",
     "output_type": "stream",
     "text": [
      "Error sending stats to Plausible: error sending request for url (https://plausible.io/api/event)\n"
     ]
    }
   ],
   "source": [
    "service = Service()\n",
    "driver = webdriver.Chrome(service = service,options=options)\n",
    "driver.maximize_window()"
   ]
  },
  {
   "cell_type": "code",
   "execution_count": 4,
   "id": "4a4e6bf0-f037-4b7d-94d4-796181a9f17d",
   "metadata": {},
   "outputs": [],
   "source": [
    "driver.get(\"https://mpnresearchfoundation.org/news/2023-asco-annual-meeting-mpn-highlights/?gad_source=1&gclid=Cj0KCQjw6uWyBhD1ARIsAIMcADoAExf13L9COylv8-B32peo3uZCuvANinBLszoS6jpta-cdJoDz9jcaAucyEALw_wcB\")\n",
    "time.sleep(5)"
   ]
  },
  {
   "cell_type": "code",
   "execution_count": 5,
   "id": "851e5f3d-3da7-42c2-8747-7743aa28098c",
   "metadata": {},
   "outputs": [],
   "source": [
    "heading = driver.find_element(By.XPATH, \"//div[@class='container']\").text"
   ]
  },
  {
   "cell_type": "code",
   "execution_count": 6,
   "id": "a7dcbb10-1c0c-4295-ad32-85ede0c0130f",
   "metadata": {},
   "outputs": [],
   "source": [
    "paragraph = WebDriverWait(driver, 10).until(\n",
    "    EC.presence_of_element_located((By.XPATH, \"//*[@id='content']/div/div/div/div[2]/div[1]/div/div[2]/section/div/div/div/div[2]/div\"))).text"
   ]
  },
  {
   "cell_type": "code",
   "execution_count": 7,
   "id": "64161e7d-5919-4fbe-b56c-ec7340ac2965",
   "metadata": {},
   "outputs": [],
   "source": [
    "data = []"
   ]
  },
  {
   "cell_type": "code",
   "execution_count": 8,
   "id": "ec87ceb9-156d-4023-bf68-90d5bc0120b3",
   "metadata": {},
   "outputs": [],
   "source": [
    "data.append(heading)\n",
    "data.append(paragraph)"
   ]
  },
  {
   "cell_type": "code",
   "execution_count": 9,
   "id": "0d3510e2-8076-4d2b-a0ce-77c2875b761e",
   "metadata": {},
   "outputs": [
    {
     "name": "stdout",
     "output_type": "stream",
     "text": [
      "['2023 ASCO Annual Meeting MPN Highlights', 'MPNs More Visible Than Ever at ASCO 2023 \\nRecognized as the premier educational and scientific event for the greater oncology community, MPN presentations and posters were more prominent than ever at the 2023 American Society of Clinical Oncology (ASCO) Annual Meeting in Chicago.  \\nMPNRF’s presence at ASCO was all encompassing. Our team was there to hear about the latest research presented on MPNs, and also on other blood cancers, as well as advances in solid tumor diagnosis and treatment, in particular cutting-edge precision medicine that allows for a personalized approach. All of this knowledge can help inform our research priorities as we explore filling the gaps in MPN research and treatment.  \\nShared decision-making was a major theme at the meeting, specifically how clinicians can work more closely with patients and caregivers in making shared decisions that affect treatment, quality of life, and at times overall survival. Clinicians discussed how they might better collaborate with patients; patients and caregivers were encouraged to walk into each of their office visits prepared for a two-way discussion. \\n“Now, more than ever before, we need to reach out to our own patients, the patient community at large, and the general public, to understand what we need to prioritize to make their lives better, and we need to listen to their guidance,” said outgoing ASCO President Eric Winer in his opening address. “We must embrace patients as our partners in research.” He speaks both from his experience as a doctor and a lifelong hemophilia patient. \\nUtah oncologist Mark A. Lewis, who lives with a hereditary cancer, added this perspective in a later session: “Patients are the ultimate stakeholders in oncology. There has never been more information available, but that makes curation of both general knowledge and personally applicable data even more crucial.”\\u202f \\nFrom A to Z (abemacilib to zilurgisertib), the ASCO poster session was the place to be for MPN clinicians and researchers, including: \\n• MPN trial updates\\n• Advocacy for inclusion of MPNs in a list of presumptive conditions for military veterans with Agent Orange exposure \\n• Genetics of a diverse cohort of MPN patients from large Chicago public hospital \\n Poster Highlights \\nMany excellent posters were presented featuring results from advanced phase clinical trials directed at new frontline and second line treatment options for MPN patients. For example, results from studies with the investigational agents, jaktinib, selinexor, momelotinib, pelabresib, INCB057643, zilurgiserb and luspatercept were presented. Additional analysis of pacritinib in MF patients with cytopenias and results of ropeginterferon alfa-2b-njft in patients with ET were also presented. Visit the ASCO website for a full listing of the 2023 posters.  ']\n"
     ]
    }
   ],
   "source": [
    "print(data)"
   ]
  },
  {
   "cell_type": "code",
   "execution_count": 61,
   "id": "f3899203-2c75-476d-8fad-8e5ff184f2cb",
   "metadata": {},
   "outputs": [],
   "source": [
    "import pandas as pd"
   ]
  },
  {
   "cell_type": "code",
   "execution_count": 62,
   "id": "95901dd1-e1c4-4a15-933b-2e0bc933d1ff",
   "metadata": {},
   "outputs": [],
   "source": [
    "df = pd.DataFrame(data)"
   ]
  },
  {
   "cell_type": "code",
   "execution_count": 63,
   "id": "965a9797-1df8-467e-8cee-501ceddf1892",
   "metadata": {},
   "outputs": [],
   "source": [
    "df.to_excel(\"link9(2023).xlsx\",index=False)"
   ]
  },
  {
   "cell_type": "code",
   "execution_count": null,
   "id": "eb6b978c-cd15-4a24-bd7b-9a3d52319fed",
   "metadata": {},
   "outputs": [],
   "source": []
  }
 ],
 "metadata": {
  "kernelspec": {
   "display_name": "Python 3 (ipykernel)",
   "language": "python",
   "name": "python3"
  },
  "language_info": {
   "codemirror_mode": {
    "name": "ipython",
    "version": 3
   },
   "file_extension": ".py",
   "mimetype": "text/x-python",
   "name": "python",
   "nbconvert_exporter": "python",
   "pygments_lexer": "ipython3",
   "version": "3.11.5"
  }
 },
 "nbformat": 4,
 "nbformat_minor": 5
}
