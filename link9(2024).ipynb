{
 "cells": [
  {
   "cell_type": "code",
   "execution_count": 24,
   "id": "d17dadce-7b0c-47f2-a102-4524a71f62e9",
   "metadata": {},
   "outputs": [],
   "source": [
    "import selenium\n",
    "from selenium.webdriver.chrome.service import Service\n",
    "from selenium import webdriver\n",
    "from selenium.webdriver.common.by import By\n",
    "from selenium.webdriver.support.ui import WebDriverWait\n",
    "from selenium.webdriver.support import expected_conditions as EC\n",
    "from selenium.webdriver.common.action_chains import ActionChains\n",
    "from selenium.webdriver.common.keys import Keys\n",
    "import time\n",
    "import re\n",
    "import json\n",
    "from selenium.webdriver.common.by import By"
   ]
  },
  {
   "cell_type": "code",
   "execution_count": 25,
   "id": "13223d51-6e60-4487-9e10-0ce4b50a4a7c",
   "metadata": {},
   "outputs": [],
   "source": [
    "options = webdriver.ChromeOptions()\n",
    "prefs = {\"profile.default_content_setting_values.notifications\" : 2}\n",
    "options.add_experimental_option(\"prefs\",prefs)"
   ]
  },
  {
   "cell_type": "code",
   "execution_count": 26,
   "id": "178df965-606d-4b5a-8ef6-3b5bf20f9976",
   "metadata": {},
   "outputs": [],
   "source": [
    "service = Service()\n",
    "driver = webdriver.Chrome(service = service,options=options)\n",
    "driver.maximize_window()"
   ]
  },
  {
   "cell_type": "code",
   "execution_count": 27,
   "id": "5dd648ca-c70e-4f90-a862-ef4ecb323c54",
   "metadata": {},
   "outputs": [],
   "source": [
    "driver.get(\"https://conferences.asco.org/am/attend\")\n",
    "time.sleep(5)"
   ]
  },
  {
   "cell_type": "code",
   "execution_count": 28,
   "id": "73d2def2-67bb-4682-be88-2c0fc04d3c6a",
   "metadata": {},
   "outputs": [],
   "source": [
    "heading = driver.find_element(By.XPATH, \"//*[@id='slick-slide00']/div[2]/div/div[4]/div/div[2]/div/h2\").text"
   ]
  },
  {
   "cell_type": "code",
   "execution_count": 29,
   "id": "9c1faccc-e275-4ebb-bcd8-d656fbcf738f",
   "metadata": {},
   "outputs": [
    {
     "name": "stdout",
     "output_type": "stream",
     "text": [
      "Welcome to #ASCO24\n"
     ]
    }
   ],
   "source": [
    "print(heading)"
   ]
  },
  {
   "cell_type": "code",
   "execution_count": 30,
   "id": "289d9bc3-f086-4557-89fc-5b23e71c8083",
   "metadata": {},
   "outputs": [],
   "source": [
    "body = driver.find_element(By.XPATH,\"//*[@id='slick-slide00']/div[2]/div/div[4]/div/div[2]/div/div[1]/div/div[2]\").text"
   ]
  },
  {
   "cell_type": "code",
   "execution_count": 31,
   "id": "30525d28-206b-4970-9f2c-c5b9929f6caf",
   "metadata": {},
   "outputs": [
    {
     "name": "stdout",
     "output_type": "stream",
     "text": [
      "Sessions are now livestreaming! Submit your questions in real-time. Vote up the questions you want to hear answered.\n"
     ]
    }
   ],
   "source": [
    "print(body)"
   ]
  },
  {
   "cell_type": "code",
   "execution_count": 32,
   "id": "30ed69b5-d58a-4f42-baef-5d25eb2a9d7f",
   "metadata": {},
   "outputs": [],
   "source": [
    "alltitle = WebDriverWait(driver, 10).until(\n",
    "    EC.presence_of_element_located((By.XPATH, \"/html/body/mic-root/mic-meeting/div/div[2]/mic-content-type/mic-landing-page/div/div/div\"))).text"
   ]
  },
  {
   "cell_type": "code",
   "execution_count": 42,
   "id": "7e041a80-6fce-478a-8fd2-5268d8308797",
   "metadata": {},
   "outputs": [],
   "source": [
    "data = []"
   ]
  },
  {
   "cell_type": "code",
   "execution_count": 43,
   "id": "2da24f07-521a-4205-b8fd-b456c79dc2a2",
   "metadata": {},
   "outputs": [],
   "source": [
    "data.append(heading)\n",
    "data.append(body)"
   ]
  },
  {
   "cell_type": "code",
   "execution_count": 45,
   "id": "397cf0b4-cd7d-4608-9f27-0baf074bdd6b",
   "metadata": {},
   "outputs": [
    {
     "name": "stdout",
     "output_type": "stream",
     "text": [
      "Program\n",
      "Bonus Video Content\n",
      "Abstracts & Posters\n",
      "Why Attend\n",
      "Dates to Know\n",
      "Registration\n",
      "Hotel Reservations\n",
      "Faculty Guidelines\n",
      "ASCO Voices\n",
      "Exhibits\n",
      "Continuing Education\n",
      "Getting Prepared\n",
      "Onsite Resources\n",
      "Ancillary Educational Events\n",
      "Industry Expert Theater\n",
      "Online Meeting Access\n",
      "Health & Safety\n",
      "Awards Recognition\n",
      "ASCO Daily News\n",
      "ASCO Educational Book\n",
      "Advertising Opportunities\n"
     ]
    }
   ],
   "source": [
    "num = 22\n",
    "for i in range(1, num):\n",
    "    pa = '/html/body/mic-root/mic-meeting/div/div[2]/mic-content-type/mic-landing-page/div/div/div/mic-paragraph[{}]/mic-landing-tile-paragraph/div/h2'.format(i)\n",
    "    element = driver.find_element(By.XPATH, pa).text\n",
    "    print(element)\n",
    "    data.append(element)"
   ]
  },
  {
   "cell_type": "code",
   "execution_count": 46,
   "id": "c6ff0fa9-a90e-4fc5-8066-0035e66884a3",
   "metadata": {},
   "outputs": [
    {
     "name": "stdout",
     "output_type": "stream",
     "text": [
      "['Welcome to #ASCO24', 'Sessions are now livestreaming! Submit your questions in real-time. Vote up the questions you want to hear answered.', 'Program', 'Bonus Video Content', 'Abstracts & Posters', 'Why Attend', 'Dates to Know', 'Registration', 'Hotel Reservations', 'Faculty Guidelines', 'ASCO Voices', 'Exhibits', 'Continuing Education', 'Getting Prepared', 'Onsite Resources', 'Ancillary Educational Events', 'Industry Expert Theater', 'Online Meeting Access', 'Health & Safety', 'Awards Recognition', 'ASCO Daily News', 'ASCO Educational Book', 'Advertising Opportunities']\n"
     ]
    }
   ],
   "source": [
    "print(data)"
   ]
  },
  {
   "cell_type": "code",
   "execution_count": 47,
   "id": "7fa1921c-1b48-40da-b4d1-e1d27e955d57",
   "metadata": {},
   "outputs": [],
   "source": [
    "import pandas as pd"
   ]
  },
  {
   "cell_type": "code",
   "execution_count": 48,
   "id": "2cc74e7d-5901-401b-b785-58d637dc3404",
   "metadata": {},
   "outputs": [],
   "source": [
    "df = pd.DataFrame(data)"
   ]
  },
  {
   "cell_type": "code",
   "execution_count": 49,
   "id": "02334550-2ab8-4893-bee0-c58666575e10",
   "metadata": {},
   "outputs": [],
   "source": [
    "df.to_excel(\"link9(2024).xlsx\")"
   ]
  },
  {
   "cell_type": "code",
   "execution_count": null,
   "id": "501c0288-e83c-4654-a6ac-e4f45743370b",
   "metadata": {},
   "outputs": [],
   "source": []
  }
 ],
 "metadata": {
  "kernelspec": {
   "display_name": "Python 3 (ipykernel)",
   "language": "python",
   "name": "python3"
  },
  "language_info": {
   "codemirror_mode": {
    "name": "ipython",
    "version": 3
   },
   "file_extension": ".py",
   "mimetype": "text/x-python",
   "name": "python",
   "nbconvert_exporter": "python",
   "pygments_lexer": "ipython3",
   "version": "3.11.5"
  }
 },
 "nbformat": 4,
 "nbformat_minor": 5
}
